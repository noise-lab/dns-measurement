{
 "cells": [
  {
   "cell_type": "code",
   "execution_count": 1,
   "metadata": {},
   "outputs": [],
   "source": [
    "import pandas as pd\n",
    "import json\n",
    "import csv\n",
    "import numpy as np\n",
    "import matplotlib.pyplot as plt\n",
    "\n",
    "with open('data_100.json') as json_file:\n",
    "    jsondata = json.load(json_file)\n",
    " \n",
    "data_file = open('jsonoutput_100.csv', 'w', newline='')\n",
    "csv_writer = csv.writer(data_file)\n",
    " \n",
    "count = 0\n",
    "for data in jsondata:\n",
    "    if count == 0:\n",
    "        header = data.keys()\n",
    "        csv_writer.writerow(header)\n",
    "        count += 1\n",
    "    csv_writer.writerow(data.values())\n",
    " \n",
    "data_file.close()\n"
   ]
  },
  {
   "cell_type": "code",
   "execution_count": 2,
   "metadata": {},
   "outputs": [],
   "source": [
    "output_csv = pd.read_csv('jsonoutput_100.csv')"
   ]
  },
  {
   "cell_type": "code",
   "execution_count": 3,
   "metadata": {},
   "outputs": [
    {
     "data": {
      "text/html": [
       "<div>\n",
       "<style scoped>\n",
       "    .dataframe tbody tr th:only-of-type {\n",
       "        vertical-align: middle;\n",
       "    }\n",
       "\n",
       "    .dataframe tbody tr th {\n",
       "        vertical-align: top;\n",
       "    }\n",
       "\n",
       "    .dataframe thead th {\n",
       "        text-align: right;\n",
       "    }\n",
       "</style>\n",
       "<table border=\"1\" class=\"dataframe\">\n",
       "  <thead>\n",
       "    <tr style=\"text-align: right;\">\n",
       "      <th></th>\n",
       "      <th>status</th>\n",
       "      <th>resolver</th>\n",
       "      <th>domain</th>\n",
       "      <th>response_time</th>\n",
       "      <th>size_or_error</th>\n",
       "      <th>datetime</th>\n",
       "    </tr>\n",
       "  </thead>\n",
       "  <tbody>\n",
       "    <tr>\n",
       "      <td>0</td>\n",
       "      <td>ok</td>\n",
       "      <td>https://dns.google/dns-query</td>\n",
       "      <td>google.com</td>\n",
       "      <td>64.014572</td>\n",
       "      <td>44.0</td>\n",
       "      <td>Wed Jul  7 22:01:30 2021</td>\n",
       "    </tr>\n",
       "    <tr>\n",
       "      <td>1</td>\n",
       "      <td>ok</td>\n",
       "      <td>https://dns.google/dns-query</td>\n",
       "      <td>netflix.com</td>\n",
       "      <td>68.006540</td>\n",
       "      <td>77.0</td>\n",
       "      <td>Wed Jul  7 22:01:30 2021</td>\n",
       "    </tr>\n",
       "    <tr>\n",
       "      <td>2</td>\n",
       "      <td>ok</td>\n",
       "      <td>https://dns.aa.net.uk/dns-query</td>\n",
       "      <td>google.com</td>\n",
       "      <td>542.697981</td>\n",
       "      <td>44.0</td>\n",
       "      <td>Wed Jul  7 22:01:30 2021</td>\n",
       "    </tr>\n",
       "    <tr>\n",
       "      <td>3</td>\n",
       "      <td>ok</td>\n",
       "      <td>https://dns.aa.net.uk/dns-query</td>\n",
       "      <td>netflix.com</td>\n",
       "      <td>551.804372</td>\n",
       "      <td>213.0</td>\n",
       "      <td>Wed Jul  7 22:01:30 2021</td>\n",
       "    </tr>\n",
       "    <tr>\n",
       "      <td>4</td>\n",
       "      <td>ok</td>\n",
       "      <td>https://adfree.usableprivacy.net/dns-query</td>\n",
       "      <td>google.com</td>\n",
       "      <td>925.139516</td>\n",
       "      <td>44.0</td>\n",
       "      <td>Wed Jul  7 22:01:31 2021</td>\n",
       "    </tr>\n",
       "  </tbody>\n",
       "</table>\n",
       "</div>"
      ],
      "text/plain": [
       "  status                                    resolver       domain  \\\n",
       "0     ok                https://dns.google/dns-query   google.com   \n",
       "1     ok                https://dns.google/dns-query  netflix.com   \n",
       "2     ok             https://dns.aa.net.uk/dns-query   google.com   \n",
       "3     ok             https://dns.aa.net.uk/dns-query  netflix.com   \n",
       "4     ok  https://adfree.usableprivacy.net/dns-query   google.com   \n",
       "\n",
       "   response_time  size_or_error                  datetime  \n",
       "0      64.014572           44.0  Wed Jul  7 22:01:30 2021  \n",
       "1      68.006540           77.0  Wed Jul  7 22:01:30 2021  \n",
       "2     542.697981           44.0  Wed Jul  7 22:01:30 2021  \n",
       "3     551.804372          213.0  Wed Jul  7 22:01:30 2021  \n",
       "4     925.139516           44.0  Wed Jul  7 22:01:31 2021  "
      ]
     },
     "execution_count": 3,
     "metadata": {},
     "output_type": "execute_result"
    }
   ],
   "source": [
    "output_csv.head()"
   ]
  },
  {
   "cell_type": "code",
   "execution_count": 4,
   "metadata": {},
   "outputs": [],
   "source": [
    "array_of_resolvers=pd.Series(output_csv['resolver']).unique()"
   ]
  },
  {
   "cell_type": "code",
   "execution_count": 5,
   "metadata": {},
   "outputs": [
    {
     "data": {
      "text/plain": [
       "'https://adfree.usableprivacy.net/dns-query'"
      ]
     },
     "execution_count": 5,
     "metadata": {},
     "output_type": "execute_result"
    }
   ],
   "source": [
    "array_of_resolvers[2]"
   ]
  },
  {
   "cell_type": "code",
   "execution_count": 6,
   "metadata": {},
   "outputs": [],
   "source": [
    "dict_resp_time_series={}"
   ]
  },
  {
   "cell_type": "code",
   "execution_count": 7,
   "metadata": {},
   "outputs": [
    {
     "data": {
      "text/plain": [
       "array(['https://dns.google/dns-query', 'https://dns.aa.net.uk/dns-query',\n",
       "       'https://adfree.usableprivacy.net/dns-query',\n",
       "       'https://dns.adguard.com/dns-query',\n",
       "       'https://dns-family.adguard.com/dns-query',\n",
       "       'https://doh.in.ahadns.net/dns-query',\n",
       "       'https://doh.la.ahadns.net/dns-query',\n",
       "       'https://doh.nl.ahadns.net/dns-query',\n",
       "       'https://dns.alidns.com/dns-query',\n",
       "       'https://dnsnl.alekberg.net/dns-query',\n",
       "       'https://dns.arapurayil.com/dns-query',\n",
       "       'https://dohtrial.att.net/dns-query',\n",
       "       'https://dnses.alekberg.net/dns-query',\n",
       "       'https://doh.bortzmeyer.fr/dns-query',\n",
       "       'https://dns.circl.lu/dns-query',\n",
       "       'https://doh.opendns.com/dns-query',\n",
       "       'https://dns.cloudflare.com/dns-query',\n",
       "       'https://family.cloudflare-dns.com/dns-query',\n",
       "       'https://security.cloudflare-dns.com/dns-query',\n",
       "       'https://odvr.nic.cz/dns-query',\n",
       "       'https://dns.digitale-gesellschaft.ch/dns-query',\n",
       "       'https://dns1.ryan-palmer.com/dns-query',\n",
       "       'https://doh.dns.sb/dns-query',\n",
       "       'https://dns.therifleman.name/dns-query',\n",
       "       'https://dns1.dnscrypt.ca/dns-query',\n",
       "       'https://dns2.dnscrypt.ca/dns-query',\n",
       "       'https://dns-doh.dnsforfamily.com/dns-query',\n",
       "       'https://dns-doh-no-safe-search.dnsforfamily.com/dns-query',\n",
       "       'https://dnsforge.de/dns-query',\n",
       "       'https://dns.dnshome.de/dns-query', 'https://doh.pub/dns-query',\n",
       "       'https://doh-ch.blahdns.com/dns-query',\n",
       "       'https://doh.cleanbrowsing.org/dns-query',\n",
       "       'https://doh.crypto.sx/dns-query',\n",
       "       'https://doh-de.blahdns.com/dns-query',\n",
       "       'https://doh-fi.blahdns.com/dns-query',\n",
       "       'https://ibksturm.synology.me/dns-query',\n",
       "       'https://doh-jp.blahdns.com/dns-query',\n",
       "       'https://doh-sg.blahdns.com/dns-query',\n",
       "       'https://doh.appliedprivacy.net/dns-query',\n",
       "       'https://doh.ffmuc.net/dns-query',\n",
       "       'https://doh.tiarap.org/dns-query',\n",
       "       'https://dns.emeraldonion.org/dns-query',\n",
       "       'https://ordns.he.net/dns-query', 'https://doh.tiar.app/dns-query',\n",
       "       'https://public.dns.iij.jp/dns-query',\n",
       "       'https://doh.this.web.id/dns-query',\n",
       "       'https://jp.tiar.app/dns-query', 'https://jp.tiarap.org/dns-query',\n",
       "       'https://doh.libredns.gr/dns-query',\n",
       "       'https://doh.linuxsec.org/dns-query',\n",
       "       'https://adblock.doh.mullvad.net/dns-query',\n",
       "       'https://doh.mullvad.net/dns-query',\n",
       "       'https://dns.nextdns.io/dns-query',\n",
       "       'https://dns.njal.la/dns-query',\n",
       "       'https://doh.post-factum.tk/dns-query',\n",
       "       'https://draco.plan9-ns2.com/dns-query',\n",
       "       'https://doh.powerdns.org/dns-query',\n",
       "       'https://doh.seby.io/dns-query', 'https://doh-2.seby.io/dns-query',\n",
       "       'https://dns.twnic.tw/dns-query',\n",
       "       'https://dns9.quad9.net/dns-query',\n",
       "       'https://dnsse.alekberg.net/dns-query',\n",
       "       'https://dns.switch.ch/dns-query', 'https://dns.t53.de/dns-query',\n",
       "       'https://sg.yepdns.com/dns-query'], dtype=object)"
      ]
     },
     "execution_count": 7,
     "metadata": {},
     "output_type": "execute_result"
    }
   ],
   "source": [
    "array_of_resolvers"
   ]
  },
  {
   "cell_type": "code",
   "execution_count": 8,
   "metadata": {},
   "outputs": [
    {
     "name": "stdout",
     "output_type": "stream",
     "text": [
      "66\n"
     ]
    }
   ],
   "source": [
    "length=len(array_of_resolvers)\n",
    "print(length)"
   ]
  },
  {
   "cell_type": "code",
   "execution_count": 9,
   "metadata": {},
   "outputs": [
    {
     "data": {
      "image/png": "[encoded data removed]",
      "text/plain": [
       "<Figure size 432x288 with 1 Axes>"
      ]
     },
     "metadata": {
      "needs_background": "light"
     },
     "output_type": "display_data"
    }
   ],
   "source": [
    "netflix_resp=[0]*length\n",
    "resp_time_series=[0]*length\n",
    "for i in range(length):\n",
    "    netflix_resp[i]=output_csv[(output_csv['resolver']==array_of_resolvers[i]) & (output_csv['domain'] == 'netflix.com')]\n",
    "    resp_time_series[i]=(netflix_resp[i]['response_time'])\n",
    "    dict_resp_time_series[array_of_resolvers[i]]= resp_time_series[i]\n",
    "frame_to_plot=pd.DataFrame(dict_resp_time_series)\n",
    "boxplot=frame_to_plot.boxplot()"
   ]
  },
  {
   "cell_type": "code",
   "execution_count": 10,
   "metadata": {},
   "outputs": [
    {
     "data": {
      "image/png": "[encoded data removed]",
      "text/plain": [
       "<Figure size 432x288 with 1 Axes>"
      ]
     },
     "metadata": {
      "needs_background": "light"
     },
     "output_type": "display_data"
    }
   ],
   "source": [
    "netflix_resp=[0]*(6)\n",
    "resp_time_series=[0]*(6)\n",
    "dict_resp_time_series={}\n",
    "for i in range(6):\n",
    "    netflix_resp[i]=output_csv[(output_csv['resolver']==array_of_resolvers[i]) & (output_csv['domain'] == 'netflix.com')]\n",
    "    resp_time_series[i]=(netflix_resp[i]['response_time'])\n",
    "    dict_resp_time_series[array_of_resolvers[i]]= resp_time_series[i]\n",
    "frame_to_plot=pd.DataFrame(dict_resp_time_series)\n",
    "boxplot=frame_to_plot.boxplot()"
   ]
  },
  {
   "cell_type": "code",
   "execution_count": null,
   "metadata": {},
   "outputs": [],
   "source": []
  }
 ],
 "metadata": {
  "kernelspec": {
   "display_name": "Python 3",
   "language": "python",
   "name": "python3"
  },
  "language_info": {
   "codemirror_mode": {
    "name": "ipython",
    "version": 3
   },
   "file_extension": ".py",
   "mimetype": "text/x-python",
   "name": "python",
   "nbconvert_exporter": "python",
   "pygments_lexer": "ipython3",
   "version": "3.7.4"
  }
 },
 "nbformat": 4,
 "nbformat_minor": 2
}
